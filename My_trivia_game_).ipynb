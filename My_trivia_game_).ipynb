{
  "cells": [
    {
      "cell_type": "markdown",
      "metadata": {
        "id": "view-in-github",
        "colab_type": "text"
      },
      "source": [
        "<a href=\"https://colab.research.google.com/github/Rami-habash/Projects/blob/main/My_trivia_game_).ipynb\" target=\"_parent\"><img src=\"https://colab.research.google.com/assets/colab-badge.svg\" alt=\"Open In Colab\"/></a>"
      ]
    },
    {
      "cell_type": "code",
      "execution_count": 3,
      "metadata": {
        "colab": {
          "base_uri": "https://localhost:8080/"
        },
        "id": "AtySjpmKiYC6",
        "outputId": "19936660-61d6-4e92-b08d-243227f93d5b"
      },
      "outputs": [
        {
          "output_type": "stream",
          "name": "stdout",
          "text": [
            "Trivia\n",
            "\n",
            "pick one of the following genres: general knowledge, sports or music\n",
            "general knowledge\n",
            "what island in San Francisco was famous for being a prison?\n",
            "alkatraz\n",
            "That's correct!\n"
          ]
        }
      ],
      "source": [
        "print('Trivia\\n')\n",
        "genre = input('pick one of the following genres: general knowledge, sports or music\\n').lower()\n",
        "\n",
        "#general knowledge\n",
        "questions = []\n",
        "if genre == 'general knowledge':\n",
        "    questions = {'what country in South America speaks portugese ?': 'Brazil',\n",
        "                 'Who is the current vice president of the United States(2020-2024)?': 'Kamala',\n",
        "                 'what island in San Francisco was famous for being a prison?': 'Alkatraz'}\n",
        "#sports\n",
        "elif genre == 'sports':\n",
        "    questions = {'What U.S. soccer player is known as the Lebron of soccer?': 'Pulisic',\n",
        "                 \"What is San Diego's baseball team called?\": 'Padres',\n",
        "                 'What football team recently moved from Oakland to Las Vegas?': 'Raiders'}\n",
        "#music\n",
        "elif genre == 'music':\n",
        "    questions = {'Which rock band is famous for buiding their legacy in Seattle, WA?' : 'Nirvana',\n",
        "                 'Who is the only rapper to a recieve certified platinum album for 5 years in a row(2019-2023)?': 'Rod Wave',\n",
        "                 'Who is the most streamed global artist?' : 'Taylor Swift'}\n",
        "else:\n",
        "    print('invalid input, try inputting one of the genres provided')\n",
        "\n",
        "#seeing if user is correct\n",
        "import random\n",
        "random_question = random.choice(list(questions.keys()))\n",
        "user_ans = input(random_question + '\\n')\n",
        "correct_ans = questions[random_question]\n",
        "\n",
        "if correct_ans.lower() in user_ans.lower():\n",
        "    print(\"That's correct!\")\n",
        "else:\n",
        "    print(\"Sorry that's incorrect\")\n"
      ]
    }
  ],
  "metadata": {
    "colab": {
      "provenance": [],
      "authorship_tag": "ABX9TyPim0MZ38FJJCRYOCVqTyq5",
      "include_colab_link": true
    },
    "kernelspec": {
      "display_name": "Python 3",
      "name": "python3"
    },
    "language_info": {
      "name": "python"
    }
  },
  "nbformat": 4,
  "nbformat_minor": 0
}